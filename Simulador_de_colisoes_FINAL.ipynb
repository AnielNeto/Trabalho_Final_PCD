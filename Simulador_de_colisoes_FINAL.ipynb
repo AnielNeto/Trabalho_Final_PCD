{
 "cells": [
  {
   "cell_type": "markdown",
   "id": "1671833f-1087-4ecd-ab9e-8655a663e5b4",
   "metadata": {},
   "source": [
    "# Colisão Elástica"
   ]
  },
  {
   "cell_type": "markdown",
   "id": "16a0dc1e-d0a8-4f00-af54-d47425306706",
   "metadata": {},
   "source": [
    "## Esquema da simulação de uma colisão:"
   ]
  },
  {
   "cell_type": "markdown",
   "id": "114cf56c-9a36-4019-ab7b-3c52f4c79397",
   "metadata": {},
   "source": [
    "### - Física:\n",
    "##### Foram consideradas colisões perfeitamente elásticas sem atuação de forças externas. Desta forma, há conservação da energia, bem como do momento linear. Além disso, a parede foi considerada um reservatório de mome\n",
    "#### . Constantes Físicas\n",
    "###### _ m1, m2 (massas em kg)\n",
    "###### _ v01, v02 (velocidades iniciais em m/s)\n",
    "###### _ x01, x02 (posições iniciais em m)\n",
    "###### _ tempo_simulacao (em s)\n",
    "#### . Velocidade final\n",
    "###### _ v1 = ((m1 - m2) * v01 + 2 * m2 * v02) / (m1 + m2)\n",
    "###### _ v2 = ((m2 - m1) * v02 + 2 * m1 * v01) / (m1 + m2)\n",
    "#### . Onde e quando ocorreu a colisão\n",
    "###### _ x1 = x01 + v01 * t\n",
    "###### _ x2 = x02 + v02 * t\n",
    "###### _ x1 = x2 -> xc (x de colisão)\n",
    "###### _ quando: x01 + v01 * tc = x02 + v02 * tc  -> tc (tempo de colisão) = (x01 - x02) / (v02 - v01)\n",
    "###### _ onde: xc = x01 + v01 * tc\n",
    "### - Código:\n",
    "#### . Bibliotecas\n",
    "###### _ matplotlib.pyplot as plt\n",
    "###### _ pygame\n",
    "###### _ numpy as np\n",
    "###### _ time\n",
    "#### . Funções\n",
    "###### _ velocidade após colisão\n",
    "###### _ posição dos corpos\n",
    "###### _ colisão com parede\n",
    "###### _ largura de cada bloco de acordo com a massa (para animação)\n",
    "#### . Cálculo da simulação\n",
    "#### . Animação"
   ]
  },
  {
   "cell_type": "markdown",
   "id": "df1718fb-b4a3-4c80-88b2-7e2e799bb36d",
   "metadata": {},
   "source": [
    "-----------------------------------------------------------------"
   ]
  },
  {
   "cell_type": "markdown",
   "id": "52e6b34a-b6f7-427b-b6fa-33755e41341a",
   "metadata": {},
   "source": [
    "### Base para a simulação"
   ]
  },
  {
   "cell_type": "markdown",
   "id": "c72f6544-54ac-4814-a166-7fc47e5baf06",
   "metadata": {},
   "source": [
    "A célula abaixo importa todas as bibliotecas usadas pelo código."
   ]
  },
  {
   "cell_type": "code",
   "execution_count": 1,
   "id": "93716fae-27b9-4c74-8725-92db660cc747",
   "metadata": {},
   "outputs": [
    {
     "ename": "KeyboardInterrupt",
     "evalue": "",
     "output_type": "error",
     "traceback": [
      "\u001b[1;31m---------------------------------------------------------------------------\u001b[0m",
      "\u001b[1;31mKeyboardInterrupt\u001b[0m                         Traceback (most recent call last)",
      "Cell \u001b[1;32mIn[1], line 2\u001b[0m\n\u001b[0;32m      1\u001b[0m \u001b[38;5;28;01mimport\u001b[39;00m \u001b[38;5;21;01mmatplotlib\u001b[39;00m\u001b[38;5;21;01m.\u001b[39;00m\u001b[38;5;21;01mpyplot\u001b[39;00m \u001b[38;5;28;01mas\u001b[39;00m \u001b[38;5;21;01mplt\u001b[39;00m\n\u001b[1;32m----> 2\u001b[0m \u001b[38;5;28;01mimport\u001b[39;00m \u001b[38;5;21;01mpygame\u001b[39;00m\n\u001b[0;32m      3\u001b[0m \u001b[38;5;28;01mimport\u001b[39;00m \u001b[38;5;21;01mnumpy\u001b[39;00m \u001b[38;5;28;01mas\u001b[39;00m \u001b[38;5;21;01mnp\u001b[39;00m\n\u001b[0;32m      4\u001b[0m \u001b[38;5;28;01mimport\u001b[39;00m \u001b[38;5;21;01mtime\u001b[39;00m\n",
      "File \u001b[1;32mC:\\venvs\\ilumpy\\Lib\\site-packages\\pygame\\__init__.py:235\u001b[0m\n\u001b[0;32m    233\u001b[0m         \u001b[38;5;28;01mpass\u001b[39;00m\n\u001b[0;32m    234\u001b[0m \u001b[38;5;28;01mtry\u001b[39;00m:\n\u001b[1;32m--> 235\u001b[0m     \u001b[38;5;28;01mimport\u001b[39;00m \u001b[38;5;21;01mpygame\u001b[39;00m\u001b[38;5;21;01m.\u001b[39;00m\u001b[38;5;21;01mfont\u001b[39;00m\n\u001b[0;32m    236\u001b[0m     \u001b[38;5;28;01mimport\u001b[39;00m \u001b[38;5;21;01mpygame\u001b[39;00m\u001b[38;5;21;01m.\u001b[39;00m\u001b[38;5;21;01msysfont\u001b[39;00m\n\u001b[0;32m    238\u001b[0m     pygame\u001b[38;5;241m.\u001b[39mfont\u001b[38;5;241m.\u001b[39mSysFont \u001b[38;5;241m=\u001b[39m pygame\u001b[38;5;241m.\u001b[39msysfont\u001b[38;5;241m.\u001b[39mSysFont\n",
      "File \u001b[1;32m<frozen importlib._bootstrap>:463\u001b[0m, in \u001b[0;36m_lock_unlock_module\u001b[1;34m(name)\u001b[0m\n",
      "\u001b[1;31mKeyboardInterrupt\u001b[0m: "
     ]
    }
   ],
   "source": [
    "import matplotlib.pyplot as plt\n",
    "import pygame\n",
    "import numpy as np\n",
    "import time"
   ]
  },
  {
   "cell_type": "markdown",
   "id": "c223fae8-d938-4266-9901-ef46aa51ea81",
   "metadata": {},
   "source": [
    "A célula abaixo define as variáveis iniciais. "
   ]
  },
  {
   "cell_type": "code",
   "execution_count": null,
   "id": "137ff563-95cf-445d-9e24-09dddae2345b",
   "metadata": {},
   "outputs": [],
   "source": [
    "# Definindo constantes\n",
    "\n",
    "m1, m2 = 1, 1000000  # massas de cada bloco em kg\n",
    "v01, v02 = 0, -30  # velocidades iniciais de cada bloco em m/s\n",
    "x01, x02 = 50, 100  # posições iniciais de cada bloco em metros\n",
    "x_parede = 20  # posição da parede em metros\n",
    "tempo_simulacao = 40  # a duração total da simulação em segundos"
   ]
  },
  {
   "cell_type": "markdown",
   "id": "317f5209-d78d-4106-b9c6-f9dd7dc5b56f",
   "metadata": {},
   "source": [
    "A célula abaixo define as funções que serão posteriormente usadas no código."
   ]
  },
  {
   "cell_type": "code",
   "execution_count": null,
   "id": "1fa45c0c-100e-48c9-82a3-696faa8a19b0",
   "metadata": {},
   "outputs": [],
   "source": [
    "# Função para velocidades após colisão elástica unidimensional\n",
    "def velocidades_depois_colisao(massa_corpo1, massa_corpo2, velocidade_corpo1, velocidade_corpo2):\n",
    "    \"\"\"\n",
    "    Essa função utiliza a equação de colisão elástica unidimensional entre dois corpos para calcular a velocidade de cada corpo após a colisão.\n",
    "\n",
    "    Argumentos:\n",
    "    massa_corpo1: massa do corpo 1\n",
    "    massa_corpo2: massa do corpo 2 \n",
    "    velcocidade_corpo1: velocidade do corpo 1 antes da colisão\n",
    "    velocidade_corpo2: velocidade do corpo 2 antes da colisão\n",
    "\n",
    "    Retornos:\n",
    "    v1: velocidade do corpo 1 após a colisão \n",
    "    v2: velocidade do corpo 2 após a colisão\n",
    "    \"\"\"\n",
    "    v1 = ((massa_corpo1 - massa_corpo2) * velocidade_corpo1 + 2 * massa_corpo2 * velocidade_corpo2) / (massa_corpo1 + massa_corpo2)\n",
    "    v2 = ((massa_corpo2 - massa_corpo1) * velocidade_corpo2 + 2 * massa_corpo1 * velocidade_corpo1) / (massa_corpo1 + massa_corpo2)\n",
    "    \n",
    "    return v1, v2\n",
    "\n",
    "# Função posição\n",
    "def pos(x0, v0, t):\n",
    "    \"\"\"\n",
    "    Essa função utiliza a equação horária da posição para calcular a posição de um corpo a velocidade constante\n",
    "\n",
    "    Argumentos:\n",
    "    x0: posição inicial\n",
    "    v0: velocidade inicial\n",
    "    t: tempo de movimento\n",
    "\n",
    "    Retorno:\n",
    "    Posição do corpo no tempo t \n",
    "    \"\"\"\n",
    "    return x0 + v0 * t\n",
    "\n",
    "# Colisão elástica com a parede\n",
    "def colisao_com_parede(v0):\n",
    "    \"\"\"Essa função retorna a velocidade de um corpo que colide com uma parede imóvel de forma elástica\"\"\"\n",
    "    return -v0\n",
    "\n",
    "# Tamnho dos blocos\n",
    "def largura_pela_massa(m):\n",
    "    \"\"\"Essa função define a largura dos blocos conforme a sua massa\"\"\"\n",
    "    # Talvez dê para procurar uma função que englobe esses pontos\n",
    "    if 0 < m <= 10: \n",
    "        return 10\n",
    "    elif 10 < m <= 100: \n",
    "        return 20\n",
    "    elif 100 < m <= 10000: \n",
    "        return 25\n",
    "    elif 10000 < m <= 1000000: \n",
    "        return 30\n",
    "    elif 1000000 <= m: \n",
    "        return 35"
   ]
  },
  {
   "cell_type": "markdown",
   "id": "5d8803de-5c89-46a0-ac44-3ab65971152e",
   "metadata": {},
   "source": [
    "------------------------------------------------"
   ]
  },
  {
   "cell_type": "markdown",
   "id": "a7b81ecc-777c-4a2f-b085-3683442aabfc",
   "metadata": {},
   "source": [
    "### Simulação Física"
   ]
  },
  {
   "cell_type": "markdown",
   "id": "c3e7d1bb-a718-4736-9222-c748a503f37e",
   "metadata": {},
   "source": [
    "A célula abaixo define variáveis necessárias para a simulação."
   ]
  },
  {
   "cell_type": "code",
   "execution_count": null,
   "id": "ce3219dd-4728-40b2-bae9-dccb9964b8bf",
   "metadata": {},
   "outputs": [],
   "source": [
    "#Variáveis para a simulação\n",
    "\n",
    "fps = 12000 # A quantidade de frames por segundo (quanto maior esse número, maior o tempo de simulação)\n",
    "t = np.linspace(0, tempo_simulacao, fps * tempo_simulacao) # Lista de tempos para simulação\n",
    "x1, x2 = [], [] # Listas de posições ao longo da simulação\n",
    "l1, l2 = largura_pela_massa(m1), largura_pela_massa(m2)\n",
    "x1_simulado, x2_simulado = x01, x02 # Posições temporárias durante a simulação\n",
    "v1_simulado, v2_simulado = v01, v02 # Velocidades temporárias durante a simulação\n",
    "passo_de_tempo = 1 / fps # Variação de tempo entre cada instante simulado\n",
    "contador = 0 # Conta o número total de colisões\n",
    "contador_esquerda = 0 # Conta o número de colisões com a parede\n",
    "contador_direita = 0 # Conta o número de colisões entre o blocos\n",
    "frames = [] # Carrega parâmetros para a simulação. Para cada frame, possuirá uma tupla com a posição dos blocos e os contadores.\n",
    "\n",
    "tempo_inicio = time.time() # Será usado para ver quanto tempo a simulação demorou"
   ]
  },
  {
   "cell_type": "markdown",
   "id": "7b407c4d-88d0-40a2-801a-c25e5eef5c7a",
   "metadata": {},
   "source": [
    "A célula abaixo faz os cálculos da simulação e atualiza a lista de frames com as informações calculadas. Essa lista será posteriormente usada para a construção da animação."
   ]
  },
  {
   "cell_type": "code",
   "execution_count": null,
   "id": "a07604af-069e-43f5-aa00-1d06dc76b54b",
   "metadata": {},
   "outputs": [],
   "source": [
    "# Fazendo os calculos da simulação\n",
    "\n",
    "for _ in t:\n",
    "    #Atualiza a posição\n",
    "    x1_simulado = pos(x1_simulado, v1_simulado, passo_de_tempo)\n",
    "    x2_simulado = pos(x2_simulado, v2_simulado, passo_de_tempo)\n",
    "\n",
    "    #Checa a colisão entre os blocos\n",
    "    if x1_simulado + (l1/2) >= x2_simulado - (l2/2):\n",
    "        v1_simulado, v2_simulado = velocidades_depois_colisao(m1, m2, v1_simulado, v2_simulado)\n",
    "        x1_simulado = x2_simulado - (l1/2) - (l2/2) # Ajuste para considerar a largura dos blocos na colisão (x1 + l1 = x2 - l2 -> x1 = x2 - l2 - l1)\n",
    "        contador += 1\n",
    "        contador_esquerda += 1\n",
    "\n",
    "    #Checa a colisão com a parede\n",
    "    if x1_simulado - (l1/2) <= x_parede:\n",
    "        v1_simulado = colisao_com_parede(v1_simulado)\n",
    "        x1_simulado = x_parede + (l1/2) # Ajuste para considerar a largura dos blocos na colisão \n",
    "        contador +=1\n",
    "        contador_direita += 1\n",
    "\n",
    "    #Atualiza a lista de posições\n",
    "    x1.append(x1_simulado)\n",
    "    x2.append(x2_simulado)\n",
    "    frames.append((x1_simulado, x2_simulado, contador, contador_esquerda, contador_direita))\n",
    "    # Checa se já ocorreu o número máximo de colisões\n",
    "    if v1_simulado >= 0 and v2_simulado >= 0 and v2_simulado > v1_simulado:\n",
    "        # Adiciona frames extras para facilitar a visualização após o fim das colisões \n",
    "        segundos_extras = 8\n",
    "        passos_extras = int(segundos_extras * fps)\n",
    "\n",
    "        for _ in range(passos_extras):\n",
    "            x1_simulado = pos(x1_simulado, v1_simulado, passo_de_tempo)\n",
    "            x2_simulado = pos(x2_simulado, v2_simulado, passo_de_tempo)\n",
    "            \n",
    "            x1.append(x1_simulado) # Atualiza a lista de posições do bloco 1\n",
    "            x2.append(x2_simulado) # Atualiza a lista de posições do bloco 2\n",
    "            frames.append((x1_simulado, x2_simulado, contador, contador_esquerda, contador_direita)) # Atualiza a lista de parâmetros para animação\n",
    "        break"
   ]
  },
  {
   "cell_type": "markdown",
   "id": "4cdcd821-66c2-4b13-838f-39c02273d8b3",
   "metadata": {},
   "source": [
    "A célula abaixo determina o tempo gasto para a simulação e o informa para o usuário juntamente do número de colisões."
   ]
  },
  {
   "cell_type": "code",
   "execution_count": null,
   "id": "dd0d5fa8-3181-4ea7-89a8-b6139c581d2a",
   "metadata": {},
   "outputs": [],
   "source": [
    "tempo_fim = time.time()\n",
    "tempo_gasto = tempo_fim - tempo_inicio\n",
    "\n",
    "print(f\"Cálculos concluídos! O tempo gasto foi de {tempo_gasto:.4f} segundos\")\n",
    "print(f\"Ocorreram {contador} colisões durante a simulação\")"
   ]
  },
  {
   "cell_type": "markdown",
   "id": "1ce85bdf-4769-4a00-8815-13f7a7154635",
   "metadata": {},
   "source": [
    "-----------------------------------------"
   ]
  },
  {
   "cell_type": "markdown",
   "id": "4a0f5f6b-9072-40de-ad25-0732ef1bb63d",
   "metadata": {},
   "source": [
    "### Gráfico das trajetórias"
   ]
  },
  {
   "cell_type": "markdown",
   "id": "a2d12803-5c6a-41df-8063-155df65eb955",
   "metadata": {},
   "source": [
    "A célula abaixo plota o gráfico das trajetórias dos blocos considerando o centro de massa deles."
   ]
  },
  {
   "cell_type": "code",
   "execution_count": null,
   "id": "df4b1810-17f5-49d1-b50b-36a191b20713",
   "metadata": {},
   "outputs": [],
   "source": [
    "# Plotando o gráfico de trajetórias \n",
    "\n",
    "plt.figure(figsize=(10, 6), dpi=300) \n",
    "plt.plot(t[:len(x1)], x1, label='Corpo 1 (vermelho)', color = 'crimson')\n",
    "plt.plot(t[:len(x2)], x2, label='Corpo 2 (azul)', color = 'dodgerblue')\n",
    "plt.xlabel('Tempo (s)')\n",
    "plt.ylabel('Posição (m)')\n",
    "plt.title('Trajetórias dos corpos')\n",
    "plt.grid(True, linestyle=\"--\")\n",
    "plt.legend()\n",
    "plt.show()"
   ]
  },
  {
   "cell_type": "markdown",
   "id": "4354c856-8774-4eaf-9deb-abafd075f885",
   "metadata": {},
   "source": [
    "----------------------------------------"
   ]
  },
  {
   "cell_type": "markdown",
   "id": "eddff233-e35d-40eb-aaa7-fe7113f6c9d1",
   "metadata": {},
   "source": [
    "### Animação "
   ]
  },
  {
   "cell_type": "markdown",
   "id": "70c58562-8cfa-43bf-9e11-e2edaca31cf2",
   "metadata": {},
   "source": [
    "#### . Configurações da animação"
   ]
  },
  {
   "cell_type": "markdown",
   "id": "f98b8f45-596e-4118-bade-a149a3b252a3",
   "metadata": {},
   "source": [
    "A célula abaixo inicializa o Pygame, biblioteca usada para a animação."
   ]
  },
  {
   "cell_type": "code",
   "execution_count": null,
   "id": "e50ef658-407f-4fa2-ae42-7c610a961e80",
   "metadata": {},
   "outputs": [],
   "source": [
    "# Inicializa o Pygame\n",
    "\n",
    "pygame.init()\n",
    "pygame.mixer.init()"
   ]
  },
  {
   "cell_type": "markdown",
   "id": "28a80989-3515-4cad-8094-480bbb8fdc91",
   "metadata": {},
   "source": [
    "A célula abaixo configura a janela que será aberta pelo Pygame, onde a animação será mostrada. Define o tamanho da janela e seu nome."
   ]
  },
  {
   "cell_type": "code",
   "execution_count": null,
   "id": "3ae52b79-989d-4b31-bbd3-57c0d28d21dd",
   "metadata": {},
   "outputs": [],
   "source": [
    "# Configurações da janela\n",
    "\n",
    "LARGURA, ALTURA = 1280, 720\n",
    "tela = pygame.display.set_mode((LARGURA, ALTURA))\n",
    "pygame.display.set_caption(\"Simulação de Colisão\")"
   ]
  },
  {
   "cell_type": "markdown",
   "id": "cdc99c90-09b9-4489-8ad7-38de5e0f3a8a",
   "metadata": {},
   "source": [
    "A célula abaixo define as cores usadas na animação, considerando a escala de cores RGB."
   ]
  },
  {
   "cell_type": "code",
   "execution_count": null,
   "id": "49b3bcc6-3da2-4a8b-85ca-37c58cf12bf2",
   "metadata": {},
   "outputs": [],
   "source": [
    "# Cores\n",
    "\n",
    "BRANCO = (255, 255, 255)\n",
    "VERMELHO = (255, 0, 0)\n",
    "AZUL = (0, 0, 255)\n",
    "PRETO = (0, 0, 0)\n",
    "LARANJA = (255, 209, 145)"
   ]
  },
  {
   "cell_type": "markdown",
   "id": "09b9de15-0b8f-4115-9b39-9d31a155325d",
   "metadata": {},
   "source": [
    "A célula abaixo define a escala da animação. No momento a escala está fixa, não alterando de acordo com as posições iniciais."
   ]
  },
  {
   "cell_type": "code",
   "execution_count": null,
   "id": "6e1b1ba9-d7c7-4147-8179-9e488db4d93b",
   "metadata": {},
   "outputs": [],
   "source": [
    "# Ajuste da escala para visualização\n",
    "\n",
    "espaco_necessario = 200\n",
    "ESCALA = LARGURA / espaco_necessario  # Escala baseada na quantidade de espaço necessária em metros "
   ]
  },
  {
   "cell_type": "markdown",
   "id": "683b1a7a-4be5-4afd-9fa5-351ffd27e501",
   "metadata": {},
   "source": [
    "A célula abaixo converte o tamanho dos blocos (definido anteriormente) para pixels de acordo com a escala."
   ]
  },
  {
   "cell_type": "code",
   "execution_count": null,
   "id": "afc6ee18-94ae-4196-a8c5-802ce0f4645f",
   "metadata": {},
   "outputs": [],
   "source": [
    "# Tamanho em pixels dos objetos\n",
    "\n",
    "LADO1, LADO2 = int(l1 * ESCALA), int(l2 * ESCALA ) # Converte para pixels\n",
    "DIFERENCA = max(LADO1, LADO2) - min(LADO1, LADO2) # Isso é para corrigir uma diferença de altura (sem isso, os blocos não estariam ambos encostados no chão)"
   ]
  },
  {
   "cell_type": "markdown",
   "id": "9c558357-c0a4-4a45-95be-f17492decab9",
   "metadata": {},
   "source": [
    "A célula abaixo define onde o chão estará de acordo com a largura escolhida para a janela da animação."
   ]
  },
  {
   "cell_type": "code",
   "execution_count": null,
   "id": "cbde66b5-45cc-46fd-9822-786a0398de4b",
   "metadata": {},
   "outputs": [],
   "source": [
    "# Posição do chão\n",
    "\n",
    "altura_do_chao = LARGURA // 2.5 "
   ]
  },
  {
   "cell_type": "markdown",
   "id": "e5d83468-4212-4520-b5a1-e5550fd867b0",
   "metadata": {},
   "source": [
    "A célula abaixo define variáveis importantes para o funcionamento do loop da animação."
   ]
  },
  {
   "cell_type": "code",
   "execution_count": null,
   "id": "7d21480b-106f-4132-93d8-add4040e0187",
   "metadata": {},
   "outputs": [],
   "source": [
    "# Definindo variáveis da animação\n",
    "\n",
    "relogio = pygame.time.Clock()\n",
    "executando = True\n",
    "simulador_ativo = True\n",
    "tempo_inicio_animacao = time.time()\n",
    "contador_esquerda_anterior = 0\n",
    "contador_direita_anterior = 0\n",
    "duracao = 0"
   ]
  },
  {
   "cell_type": "markdown",
   "id": "96cc2894-ae07-4ea9-9800-fe17362d49e3",
   "metadata": {},
   "source": [
    "#### . Loop da animação"
   ]
  },
  {
   "cell_type": "code",
   "execution_count": null,
   "id": "48d70222-92ba-4587-8a1e-9fd5c25e3f42",
   "metadata": {},
   "outputs": [],
   "source": [
    "# Loop da animação\n",
    "\n",
    "try:\n",
    "    while executando:\n",
    "        tela.fill(PRETO)\n",
    "        \n",
    "        # Eventos do sistema (fechar janela e recomeçar)\n",
    "        for evento in pygame.event.get():\n",
    "            if evento.type == pygame.QUIT:\n",
    "                executando = False\n",
    "            if evento.type == pygame.KEYDOWN and evento.key == pygame.K_r: # Caso a tecla \"R\" for pressionada a animação irá recomeçar\n",
    "                simulador_ativo = True\n",
    "                tempo_inicio_animacao = time.time()\n",
    "                duracao = 0\n",
    "\n",
    "        # Nos diz o tempo atual de simulação, isso ajuda sicronizar a animação com o tempo real\n",
    "        tempo_atual_animacao = time.time() - tempo_inicio_animacao\n",
    "\n",
    "        if simulador_ativo == True:\n",
    "            frame_atual = int(tempo_atual_animacao * fps)\n",
    "            if frame_atual >= len(frames): # Se já chegou ao final mantém o último frame e indica que a animação foi concluida\n",
    "                frame_atual = len(frames) -1\n",
    "                simulador_ativo = False\n",
    "        \n",
    "        x1_simulado, x2_simulado, contador_atual, contador_esquerda_atual, contador_direita_atual = frames[frame_atual]\n",
    "\n",
    "        # Conversão de posições físicas para pixels \n",
    "        x1_s = int((x1_simulado - l1/2) * ESCALA)  # O -l1/2 serve para transformar os calculos que estavam no centro para o canto esquerdo (o pygame tem como origem o canto superior esquerdo)\n",
    "        x2_s = int((x2_simulado - l2/2) * ESCALA)\n",
    "        x_parede_s = int(x_parede * ESCALA) \n",
    "\n",
    "        # Desenha a parede\n",
    "        pygame.draw.line(tela, BRANCO, (x_parede_s, 0), (x_parede_s, altura_do_chao), 4)\n",
    "        \n",
    "        # Desenha o bloco 1:\n",
    "        pygame.draw.rect(tela, VERMELHO, (x1_s, altura_do_chao - LADO1, LADO1, LADO1))\n",
    "        pygame.draw.rect(tela, BRANCO, (x1_s, altura_do_chao - LADO1, LADO1, LADO1), 2)  # Borda\n",
    "\n",
    "        # Desenha o bloco 2:\n",
    "        pygame.draw.rect(tela, AZUL, (x2_s, altura_do_chao - LADO2, LADO2, LADO2))\n",
    "        pygame.draw.rect(tela, BRANCO, (x2_s, altura_do_chao - LADO2, LADO2, LADO2), 2)  # Borda\n",
    "\n",
    "        # Desenha a linha no nível da altura do chão\n",
    "        pygame.draw.line(tela, BRANCO, (x_parede_s,altura_do_chao), (LARGURA, altura_do_chao), 4)\n",
    "        \n",
    "        # Adicionando os efeitos visuais de partículas e sonoros na colisão\n",
    "        particula = pygame.image.load(\"particula.png\")\n",
    "        som_colisao = pygame.mixer.Sound(\"som da colisao.mp3\")\n",
    "        tamanho = (25, 25) # tamanho da partícula de efeito\n",
    "        particula_redimencionada = pygame.transform.scale(particula, tamanho)\n",
    "        \n",
    "        if contador_esquerda_atual != contador_esquerda_anterior:\n",
    "            duracao = tempo_atual_animacao + 0.080 # Duração em segundos\n",
    "            x_partciula = x1_s\n",
    "            som_colisao.play()\n",
    "\n",
    "        if contador_direita_atual != contador_direita_anterior:\n",
    "            duracao = tempo_atual_animacao + 0.080\n",
    "            x_partciula = x1_s - LADO1\n",
    "            som_colisao.play()\n",
    "\n",
    "        if duracao > tempo_atual_animacao:\n",
    "            if duracao - tempo_atual_animacao <= 0.75:\n",
    "                tamanho = (28, 28)\n",
    "            elif duracao - tempo_atual_animacao <= 0.50:\n",
    "                tamanho = (31, 31)\n",
    "            elif duracao - tempo_atual_animacao <= 0.25:\n",
    "                tamanho = (34, 34)\n",
    "\n",
    "            tela.blit(particula_redimencionada, (x_partciula + LADO1 - tamanho[0]/2, altura_do_chao - LADO1/2 - tamanho[0]/2))\n",
    "\n",
    "        contador_esquerda_anterior = contador_esquerda_atual\n",
    "        contador_direita_anterior = contador_direita_atual\n",
    "\n",
    "\n",
    "        # Indica na tela o número de colisões\n",
    "        fonte = pygame.font.SysFont(None, 36)\n",
    "        texto_contador = fonte.render(f\"Número de colisões: {contador_atual}\", True, BRANCO)\n",
    "        tela.blit(texto_contador, (x_parede_s + 30, 15))\n",
    "\n",
    "        # Caso a animação tenha acabado aperece um texto na tela\n",
    "        if simulador_ativo == False:\n",
    "            texto = fonte.render(\"Simulação concluída - Clique no X para fechar\", True, BRANCO)\n",
    "            tela.blit(texto, (LARGURA//2 - 200, 100))\n",
    "\n",
    "        pygame.display.flip()  # Atualiza a tela\n",
    "        relogio.tick(120)  # Limite de fps da tela\n",
    "        \n",
    "finally:\n",
    "    pygame.quit()"
   ]
  },
  {
   "cell_type": "code",
   "execution_count": null,
   "id": "6afbd0af-fa17-4f99-8325-58bc4f03d738",
   "metadata": {},
   "outputs": [],
   "source": []
  }
 ],
 "metadata": {
  "kernelspec": {
   "display_name": "ilumpy",
   "language": "python",
   "name": "ilumpy"
  },
  "language_info": {
   "codemirror_mode": {
    "name": "ipython",
    "version": 3
   },
   "file_extension": ".py",
   "mimetype": "text/x-python",
   "name": "python",
   "nbconvert_exporter": "python",
   "pygments_lexer": "ipython3",
   "version": "3.12.7"
  }
 },
 "nbformat": 4,
 "nbformat_minor": 5
}
