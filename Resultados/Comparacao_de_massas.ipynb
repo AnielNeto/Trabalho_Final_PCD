{
 "cells": [
  {
   "cell_type": "markdown",
   "id": "a360f6b2",
   "metadata": {},
   "source": [
    "<div align=\"Center\">\n",
    "  <h3> Comparação de colisões para diferentes massas </h3>\n",
    "</div>"
   ]
  },
  {
   "cell_type": "markdown",
   "id": "beea2b72",
   "metadata": {},
   "source": [
    "<div align=\"Justify\">\n",
    "  <p> Este notebook tem o objetivo de apresentar como o número de colisões varia de acordo com o aumento proporcional da massa de um dos corpos. Utilizaremos isso para mostrar como as colisões resultam em dígitos de pi se os blocos seguem uma proporção definida - e como não seguem se não estão nessa proporção. </p>\n",
    "</div>"
   ]
  },
  {
   "cell_type": "markdown",
   "id": "3cd2c7f6",
   "metadata": {},
   "source": [
    "<h4> Import de bibliotecas </h4>"
   ]
  },
  {
   "cell_type": "code",
   "execution_count": 1,
   "id": "7343e86a",
   "metadata": {},
   "outputs": [],
   "source": [
    "import numpy as np\n",
    "import pandas as pd\n",
    "import matplotlib.pyplot as plt"
   ]
  },
  {
   "cell_type": "markdown",
   "id": "4b6e0da4",
   "metadata": {},
   "source": [
    "<h4> Definição das constantes físicas </h4>"
   ]
  },
  {
   "cell_type": "code",
   "execution_count": 2,
   "id": "1e5d35c0",
   "metadata": {},
   "outputs": [],
   "source": [
    "# Definindo constantes\n",
    "m10, m20 = 2, 20  # massas em kg\n",
    "v01, v02 = 0, -10  # velocidades iniciais em m/s\n",
    "x01, x02 = 10, 30  # posições iniciais em metros\n",
    "x_parede = -75 # posição da parede em metros\n",
    "tempo_simulacao = 40  # segundos"
   ]
  },
  {
   "cell_type": "markdown",
   "id": "efc7813e",
   "metadata": {},
   "source": [
    "<h4> Definição das funções principais </h4>"
   ]
  },
  {
   "cell_type": "code",
   "execution_count": 3,
   "id": "d9414507",
   "metadata": {},
   "outputs": [],
   "source": [
    "# Função para velocidades após colisão elástica unidimensional\n",
    "def velocidades_depois_colisao(massa_corpo1, massa_corpo2, velocidade_corpo1, velocidade_corpo2):\n",
    "    \"\"\"\n",
    "    Essa função utiliza a equação de colisão elástica unidimensional entre dois corpos para calcular a velocidade de cada corpo após a colisão.\n",
    "\n",
    "    Argumentos:\n",
    "    massa_corpo1: massa do corpo 1\n",
    "    massa_corpo2: massa do corpo 2 \n",
    "    velcocidade_corpo1: velocidade do corpo 1 antes da colisão\n",
    "    velocidade_corpo2: velocidade do corpo 2 antes da colisão\n",
    "\n",
    "    Retornos:\n",
    "    v1: velocidade do corpo 1 após a colisão \n",
    "    v2: velocidade do corpo 2 após a colisão\n",
    "    \"\"\"\n",
    "    v1 = ((massa_corpo1 - massa_corpo2) * velocidade_corpo1 + 2 * massa_corpo2 * velocidade_corpo2) / (massa_corpo1 + massa_corpo2)\n",
    "    v2 = ((massa_corpo2 - massa_corpo1) * velocidade_corpo2 + 2 * massa_corpo1 * velocidade_corpo1) / (massa_corpo1 + massa_corpo2)\n",
    "    \n",
    "    return v1, v2\n",
    "\n",
    "# Função posição\n",
    "def pos(x0, v0, t):\n",
    "    \"\"\"\n",
    "    Essa função utiliza a equação horária da posição para calcular a posição de um corpo a velocidade constante\n",
    "\n",
    "    Argumentos:\n",
    "    x0: posição inicial\n",
    "    v0: velocidade inicial\n",
    "    t: tempo de movimento\n",
    "\n",
    "    Retorno:\n",
    "    Posição do corpo no tempo t \n",
    "    \"\"\"\n",
    "    return x0 + v0 * t\n",
    "\n",
    "# Colisão elástica com a parede\n",
    "def colisao_com_parede(v0):\n",
    "    \"\"\"Essa função retorna a velocidade de um corpo que colide com uma parede imóvel de forma elástica\"\"\"\n",
    "    return -v0"
   ]
  },
  {
   "cell_type": "markdown",
   "id": "9a7c864f",
   "metadata": {},
   "source": [
    "<h4> Definição das variáveis gerais para simulação </h4>"
   ]
  },
  {
   "cell_type": "code",
   "execution_count": 4,
   "id": "9a35ac31",
   "metadata": {},
   "outputs": [],
   "source": [
    "#Variáveis para a simulação\n",
    "t = np.linspace(0, tempo_simulacao, 200000 * tempo_simulacao) # Lista de tempos para simulação (60 fps)\n",
    "x1_simulado, x2_simulado = x01, x02 # Posições temporárias durante a simulação\n",
    "v1_simulado, v2_simulado = v01, v02 # Velocidades temporárias durante a simulação\n",
    "passo_de_tempo = 1 / 200000 # Variação de tempo entre cada instante simulado\n",
    "contador = 0"
   ]
  },
  {
   "cell_type": "markdown",
   "id": "a3ac99bc",
   "metadata": {},
   "source": [
    "<div align=\"Justify\">\n",
    "  <h4> Simulação para massa do corpo 2 10 vezes maior que a do corpo 1 </h4>\n",
    "  <p> Repete a simulação do código principal por 10 vezes aumentando a massa do corpo 2 em 100 vezes a cada repetição </p>\n",
    "</div>"
   ]
  },
  {
   "cell_type": "code",
   "execution_count": 5,
   "id": "d05ed70d",
   "metadata": {},
   "outputs": [],
   "source": [
    "# Simulação 1\n",
    "runs = 0\n",
    "contagens1 = []\n",
    "m2, m1 = m20, m10\n",
    "\n",
    "# Roda a simulação para massas do segundo corpo sendo multiplas de 100\n",
    "while runs <= 10:\n",
    "    \n",
    "    m2 = m2 * 100\n",
    "    \n",
    "    x1_simulado, x2_simulado = x01, x02 \n",
    "    v1_simulado, v2_simulado = v01, v02 \n",
    "    contador = 0 \n",
    "    \n",
    "    for i in t:\n",
    "\n",
    "        #Atualiza a posição\n",
    "        x1_simulado = pos(x1_simulado, v1_simulado, passo_de_tempo)\n",
    "        x2_simulado = pos(x2_simulado, v2_simulado, passo_de_tempo)\n",
    "\n",
    "        #Checa a colisão entre os blocos\n",
    "        if x1_simulado >= x2_simulado:\n",
    "            v1_simulado, v2_simulado = velocidades_depois_colisao(m1, m2, v1_simulado, v2_simulado)\n",
    "            x1_simulado = x2_simulado\n",
    "            contador += 1\n",
    "\n",
    "        #Checa a colisão com a pareda\n",
    "        if x1_simulado <= x_parede:\n",
    "            v1_simulado = colisao_com_parede(v1_simulado)\n",
    "            x1_simulado = x_parede\n",
    "            contador +=1\n",
    "\n",
    "    contagens1.append(contador)\n",
    "    runs += 1"
   ]
  },
  {
   "cell_type": "markdown",
   "id": "365e2d6f",
   "metadata": {},
   "source": [
    "<div align=\"Justify\">\n",
    "  <h4> Simulação para massa do corpo 2 100 vezes maior que a do corpo 1 </h4>\n",
    "  <p> Repete a simulação do código principal por 10 vezes aumentando a massa do corpo 2 em 100 vezes a cada repetição </p>\n",
    "</div>"
   ]
  },
  {
   "cell_type": "code",
   "execution_count": 6,
   "id": "c685c927",
   "metadata": {},
   "outputs": [],
   "source": [
    "# Simulação 2\n",
    "runs = 0\n",
    "contagens10 = []\n",
    "m2, m1 = m20, m10 * 10\n",
    "\n",
    "# Roda a simulação para massas do segundo corpo sendo multiplas de 100 com a massa do corpo 1 vezes 10\n",
    "while runs <= 10:\n",
    "    m2 = m2 * 100\n",
    "    \n",
    "    x1_simulado, x2_simulado = x01, x02 \n",
    "    v1_simulado, v2_simulado = v01, v02 \n",
    "    contador = 0 \n",
    "    \n",
    "    for i in t:\n",
    "\n",
    "        #Atualiza a posição\n",
    "        x1_simulado = pos(x1_simulado, v1_simulado, passo_de_tempo)\n",
    "        x2_simulado = pos(x2_simulado, v2_simulado, passo_de_tempo)\n",
    "\n",
    "        #Checa a colisão entre os blocos\n",
    "        if x1_simulado >= x2_simulado:\n",
    "            v1_simulado, v2_simulado = velocidades_depois_colisao(m1, m2, v1_simulado, v2_simulado)\n",
    "            x1_simulado = x2_simulado\n",
    "            contador += 1\n",
    "\n",
    "        #Checa a colisão com a pareda\n",
    "        if x1_simulado <= x_parede:\n",
    "            v1_simulado = colisao_com_parede(v1_simulado)\n",
    "            x1_simulado = x_parede\n",
    "            contador +=1\n",
    "\n",
    "    contagens10.append(contador)\n",
    "    runs += 1\n"
   ]
  },
  {
   "cell_type": "markdown",
   "id": "243df3b6",
   "metadata": {},
   "source": [
    "<div align=\"Justify\">\n",
    "  <h4> Criação de tabelas para os dados </h4>\n",
    "  <p> Utilizando os dados das listas \"contagem1\" e \"contagem10\" é necessário criar um txt seguindo o modelo do arquivo \"PCD_3_.txt\" presente na pasta comparação de resultados - podendo também apenas alterar os valores dela caso preferir - e salvá-lo no mesmo diretório deste notebook para gerar uma tabela com os dados obtidos acima. Caso não seja de interesse, as listas mencionadas já possuem as quantidades de colisões efetuadas. </p>\n",
    "</div>"
   ]
  },
  {
   "cell_type": "code",
   "execution_count": null,
   "id": "a03bd7b5",
   "metadata": {},
   "outputs": [],
   "source": [
    "arquivo = 'PCD_3_.txt'\n",
    "sep = ','\n",
    "\n",
    "# PLOTAGEM\n",
    "\n",
    "# Lê o arquivo\n",
    "df = pd.read_csv(arquivo, sep=sep)\n",
    "\n",
    "# Cria figura\n",
    "fig, ax = plt.subplots(figsize=(6, 2))\n",
    "ax.axis('off')  # Remove os eixos\n",
    "\n",
    "# Cria a tabela na figura\n",
    "tabela = ax.table(cellText=df.values, colLabels=df.columns, cellLoc='center', loc='center')\n",
    "\n",
    "# Ajusta a escala\n",
    "tabela.scale(1, 1.5)\n",
    "\n",
    "# Salva como imagem\n",
    "plt.savefig(\"tabela_simulacao.png\", bbox_inches='tight', dpi=300)\n",
    "plt.close()"
   ]
  }
 ],
 "metadata": {
  "kernelspec": {
   "display_name": "Python 3",
   "language": "python",
   "name": "python3"
  },
  "language_info": {
   "codemirror_mode": {
    "name": "ipython",
    "version": 3
   },
   "file_extension": ".py",
   "mimetype": "text/x-python",
   "name": "python",
   "nbconvert_exporter": "python",
   "pygments_lexer": "ipython3",
   "version": "3.12.7"
  }
 },
 "nbformat": 4,
 "nbformat_minor": 5
}
